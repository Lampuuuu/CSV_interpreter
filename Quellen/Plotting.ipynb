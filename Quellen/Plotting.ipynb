{
 "cells": [
  {
   "attachments": {},
   "cell_type": "markdown",
   "metadata": {},
   "source": [
    "# Einbetten von Plots in Tkinter-Fenster\n",
    "\n",
    "Quelle: https://matplotlib.org/stable/gallery/user_interfaces/embedding_in_tk_sgskip.html"
   ]
  },
  {
   "cell_type": "code",
   "execution_count": null,
   "metadata": {},
   "outputs": [],
   "source": [
    "import tkinter\n",
    "\n",
    "from matplotlib.backends.backend_tkagg import (\n",
    "    FigureCanvasTkAgg, NavigationToolbar2Tk)\n",
    "# Implement the default Matplotlib key bindings.\n",
    "from matplotlib.backend_bases import key_press_handler\n",
    "from matplotlib.figure import Figure\n",
    "\n",
    "import numpy as np\n",
    "\n",
    "\n",
    "root = tkinter.Tk()\n",
    "root.wm_title(\"Embedding in Tk\")\n",
    "\n",
    "fig = Figure(figsize=(5, 4), dpi=100)\n",
    "t = np.arange(0, 3, .01)\n",
    "ax = fig.add_subplot()\n",
    "line, = ax.plot(t, 2 * np.sin(2 * np.pi * t))\n",
    "ax.set_xlabel(\"time [s]\")\n",
    "ax.set_ylabel(\"f(t)\")\n",
    "\n",
    "canvas = FigureCanvasTkAgg(fig, master=root)  # A tk.DrawingArea.\n",
    "canvas.draw()\n",
    "\n",
    "# pack_toolbar=False will make it easier to use a layout manager later on.\n",
    "toolbar = NavigationToolbar2Tk(canvas, root, pack_toolbar=False)\n",
    "toolbar.update()\n",
    "\n",
    "canvas.mpl_connect(\n",
    "    \"key_press_event\", lambda event: print(f\"you pressed {event.key}\"))\n",
    "canvas.mpl_connect(\"key_press_event\", key_press_handler)\n",
    "\n",
    "button_quit = tkinter.Button(master=root, text=\"Quit\", command=root.destroy)\n",
    "\n",
    "\n",
    "def update_frequency(new_val):\n",
    "    # retrieve frequency\n",
    "    f = float(new_val)\n",
    "\n",
    "    # update data\n",
    "    y = 2 * np.sin(2 * np.pi * f * t)\n",
    "    line.set_data(t, y)\n",
    "\n",
    "    # required to update canvas and attached toolbar!\n",
    "    canvas.draw()\n",
    "\n",
    "\n",
    "slider_update = tkinter.Scale(root, from_=1, to=5, orient=tkinter.HORIZONTAL,\n",
    "                              command=update_frequency, label=\"Frequency [Hz]\")\n",
    "\n",
    "# Packing order is important. Widgets are processed sequentially and if there\n",
    "# is no space left, because the window is too small, they are not displayed.\n",
    "# The canvas is rather flexible in its size, so we pack it last which makes\n",
    "# sure the UI controls are displayed as long as possible.\n",
    "button_quit.pack(side=tkinter.BOTTOM)\n",
    "slider_update.pack(side=tkinter.BOTTOM)\n",
    "toolbar.pack(side=tkinter.BOTTOM, fill=tkinter.X)\n",
    "canvas.get_tk_widget().pack(side=tkinter.TOP, fill=tkinter.BOTH, expand=True)\n",
    "\n",
    "tkinter.mainloop()"
   ]
  }
 ],
 "metadata": {
  "kernelspec": {
   "display_name": "Python 3",
   "language": "python",
   "name": "python3"
  },
  "language_info": {
   "name": "python",
   "version": "3.11.0 (main, Oct 24 2022, 18:26:48) [MSC v.1933 64 bit (AMD64)]"
  },
  "orig_nbformat": 4,
  "vscode": {
   "interpreter": {
    "hash": "570f93402284e886f0ca71a3a3366262f1a82055a302f49d13aba85e9880c16a"
   }
  }
 },
 "nbformat": 4,
 "nbformat_minor": 2
}
