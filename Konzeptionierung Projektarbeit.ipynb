{
 "cells": [
  {
   "cell_type": "code",
   "execution_count": null,
   "metadata": {},
   "outputs": [],
   "source": []
  },
  {
   "attachments": {},
   "cell_type": "markdown",
   "metadata": {},
   "source": [
    "# Was braucht es zum gelingen:\n",
    "\n",
    "## User Interface\n",
    "1. Auswahlfenster für die Datei\n",
    "    * erlaubt nur .csv - Dateien?!\n",
    "    * am besten, wie beim \"durchsuchen\"-Knopf auf websites oder in anderen Apps \n",
    "    * übergibt: genauen Dateinstring\n",
    "2. Auswahlfenster: Was soll dargestellt werden? \n",
    "    * muss Datei bereits im hintergrund \"geöffnet\" haben\n",
    "    * Auswahl: welche Spalten sollen ausgewertet werden?\n",
    "    * Auswahl: was soll mit den ausgewählten Spalten gemacht werden\n",
    "        * bietet vielleicht Auswahlbeschränkungen, je nach Datenform?\n",
    "    * übergibt: Auswahl, was mit Daten gemacht werden soll \n",
    "3. Anzeigefenster: Darstellung der Daten\n",
    "    * Zeigt Stellt Daten, wie vom nutzer ausgewählt dar\n",
    "    * Auswahl der Achsenoptionen / Zoomdimension? \n"
   ]
  },
  {
   "attachments": {},
   "cell_type": "markdown",
   "metadata": {},
   "source": [
    "# Wie können wir am besten Zusammenarbeiten?\n",
    "\n",
    "* Git? \n",
    "    * bietet sehr gute Möglichkeiten\n",
    "    * erfordert kenntnis von Git bei allen mitgliedern (ich hab auch nur marginale Grundkenntnis)\n",
    "* \n"
   ]
  },
  {
   "cell_type": "markdown",
   "metadata": {},
   "source": []
  },
  {
   "cell_type": "markdown",
   "metadata": {},
   "source": []
  },
  {
   "cell_type": "markdown",
   "metadata": {},
   "source": []
  },
  {
   "cell_type": "markdown",
   "metadata": {},
   "source": []
  }
 ],
 "metadata": {
  "kernelspec": {
   "display_name": "Python 3",
   "language": "python",
   "name": "python3"
  },
  "language_info": {
   "name": "python",
   "version": "3.11.0 (main, Oct 24 2022, 18:26:48) [MSC v.1933 64 bit (AMD64)]"
  },
  "orig_nbformat": 4,
  "vscode": {
   "interpreter": {
    "hash": "570f93402284e886f0ca71a3a3366262f1a82055a302f49d13aba85e9880c16a"
   }
  }
 },
 "nbformat": 4,
 "nbformat_minor": 2
}
