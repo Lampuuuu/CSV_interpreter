{
 "cells": [
  {
   "attachments": {},
   "cell_type": "markdown",
   "metadata": {},
   "source": [
    "# TODO\n",
    "\n",
    "* Inheritance Probleme lösen\n",
    "    * kriege den __filename iwie nicht mit..."
   ]
  },
  {
   "cell_type": "code",
   "execution_count": 2,
   "metadata": {},
   "outputs": [],
   "source": [
    "import os\n",
    "import tkinter as tk\n",
    "from tkinter import ttk\n",
    "from tkinter import filedialog as fd\n",
    "from tkinter.messagebox import showinfo\n",
    "\n",
    "# test\n",
    "def test():\n",
    "    pass\n",
    "\n",
    "class InputClass:\n",
    "    #__filename = \"test\"\n",
    "    def __init__(self):\n",
    "        print(\"\\nINIT\\n\")\n",
    "        self.input_filename()\n",
    "\n",
    "    def input_filename(self):\n",
    "        print(\"\\nINPUT FILENAME\\n\")\n",
    "        return \"THIS IS THE PARENT CLASS\"\n",
    "        \n",
    "    def set_filename(self, filename):\n",
    "        print(\"\\nSET FILENAME\\n\")\n",
    "        self.__filename = filename\n",
    "\n",
    "    def get_filename(self):\n",
    "        print(\"\\nGETFILENAME\\n\")\n",
    "        return self.__filename  \n",
    "\n",
    "    def check_file(self, filename):\n",
    "        print(\"\\nCHECK FILE\\n\")\n",
    "        if not os.path.isfile(filename):\n",
    "            raise Exception(\"Datei konnte nicht gefunden werden\")\n",
    "        elif filename[-3:].lower() != \"csv\":\n",
    "            raise Exception(\"Es handelt sich bei der Datei um keine CSV\")\n",
    "        else:\n",
    "            print(\"Dateieingabe korrekt!\")\n",
    "\n",
    "    def get_input_file(self):\n",
    "        print(\"\\nGET INPUT FILE\\n\")\n",
    "        try: \n",
    "            self.check_file(self.__filename)\n",
    "            return self.__filename\n",
    "        except Exception as e:\n",
    "            print(f\"{e}\")\n",
    "    \n",
    "\n",
    "\n",
    "    \n",
    "class TextInput(InputClass):\n",
    "\n",
    "    def input_filename(self):\n",
    "        loop = True\n",
    "        while loop:\n",
    "            try:\n",
    "                filename = input(\"Bitte geben Sie hier den genauen Dateistring an: \")\n",
    "                self.check_file(filename)\n",
    "                self.set_filename(filename)\n",
    "            except Exception as e:\n",
    "                print(e)\n",
    "\n",
    "                if input(\"\\nFalsche Eingabe. Wiederholen? (j/n)\").lower() != \"j\":\n",
    "                    loop = False\n",
    "\n",
    "    \n",
    "\n",
    "class GUI_Input(InputClass):\n",
    "    root = tk.Tk()\n",
    "    root.title(\"File Input\")\n",
    "    root.resizable(False, False)\n",
    "    root.geometry(\"300x150\")\n",
    "\n",
    "    def select_file(self):\n",
    "        print(\"\\nSELECT FILE\\n\")\n",
    "        filetypes = (\n",
    "        (\"csv files\", \"*.csv\"),\n",
    "        (\"All files\", \"*.*\")\n",
    "        )\n",
    "\n",
    "        filename = fd.askopenfilename(\n",
    "            title=\"Open file\",\n",
    "            #initialdir=\"/\",\n",
    "            filetypes=filetypes)\n",
    "        \n",
    "\n",
    "        showinfo(\n",
    "            title=\"Selected File\",\n",
    "            message=filename\n",
    "        )\n",
    "        self.set_filename(filename)\n",
    "        self.root.destroy()\n",
    "\n",
    "    \n",
    "\n",
    "    \n",
    "    def input_filename(self):\n",
    "        print(\"\\n INPUT FILENAME \\n\")\n",
    "        try:\n",
    "            open_button = ttk.Button(\n",
    "                self.root,\n",
    "                text=\"Open a File\",\n",
    "                command=self.select_file\n",
    "            )\n",
    "            open_button.pack(expand=True)\n",
    "\n",
    "            self.root.mainloop()\n",
    "            print(self.get_filename())\n",
    "\n",
    "\n",
    "        except Exception as e:\n",
    "            print(e)\n",
    "            \n"
   ]
  },
  {
   "cell_type": "code",
   "execution_count": 9,
   "metadata": {},
   "outputs": [],
   "source": [
    "# csv_input = GUI_Input()\n",
    "# csv_input.get_input_file()\n",
    "# #csv_input.set_filename(\"test\")\n",
    "# print(csv_input.get_filename())\n",
    "\n",
    "# csv_file = csv_input.get_filename()\n",
    "\n"
   ]
  },
  {
   "cell_type": "code",
   "execution_count": 17,
   "metadata": {},
   "outputs": [],
   "source": [
    "import pandas as pd\n",
    "import os\n",
    "\n",
    "def get_df(csv_filestring):\n",
    "    try:\n",
    "        os.path.isfile(csv_file)\n",
    "    except Exception as e:\n",
    "        csv_file = \"baume.csv\"\n",
    "\n",
    "    seperators = [\",\", \";\", \"\\t\",]\n",
    "    print(csv_file)\n",
    "    for sep in seperators:\n",
    "        print(\"SEP:\", sep)\n",
    "        try:\n",
    "            csv_skeleton_df = pd.read_csv(csv_file, sep=sep)\n",
    "            return csv_skeleton_df\n",
    "        except Exception as e:\n",
    "            print(e)\n",
    "\n",
    "        \n",
    "\n",
    "# print(csv_skeleton_df.columns)\n",
    "# csv_skeleton_df.head()\n",
    "\n"
   ]
  },
  {
   "cell_type": "code",
   "execution_count": 11,
   "metadata": {},
   "outputs": [],
   "source": [
    "\n",
    "\n",
    "class AuswahlFenster():\n",
    "    plot_types = [\"plot (x,y)\", \"Boxplot\", \"Scatterplot\", \"Bar-plot\", \"Pie-plot\", \"Histogramm\"]\n",
    "    def __init__(self):\n",
    "        self.root = tk.Tk()\n",
    "        self.root.title(\"Plotauswahl\")\n",
    "        \n",
    "        self.label = tk.Label(\n",
    "            self.root, \n",
    "            text=\"Bitte wählen Sie aus,\\nwie Ihre Daten geplotten werden sollen\", \n",
    "            font=(\"Arial\", 12))\n",
    "        self.label.pack(padx=10, pady=10)\n",
    "\n",
    "        # Dropdown-Auswahl\n",
    "        self.plot_type = tk.StringVar(self.root, \"Auswählen\")\n",
    "        self.dropdown = tk.OptionMenu(self.root, self.plot_type, *self.plot_types)\n",
    "        self.dropdown.pack(padx=10, pady=10)\n",
    "        \n",
    "        # Button, der Fenster Schließt und Ausgewählten plot returnt\n",
    "        self.button = tk.Button(self.root, text=\"OK\", font=(\"Arial\", 14), command=self.send_plot_type)\n",
    "        self.button.pack(padx=10, pady=10)\n",
    "\n",
    "        self.root.mainloop()\n",
    "\n",
    "\n",
    "    def send_plot_type(self):\n",
    "        message = f'Folgender plot wurde gewählt: {self.plot_type.get()}'\n",
    "        showinfo(title=\"Auswahl\", message=message)\n",
    "        self.root.destroy()\n",
    "\n",
    "\n",
    "Test = AuswahlFenster()"
   ]
  },
  {
   "cell_type": "code",
   "execution_count": null,
   "metadata": {},
   "outputs": [],
   "source": [
    "# TODO für ein Mittel zur Übergabe der Plotauswahl geben (am besten via Dict)\n"
   ]
  },
  {
   "cell_type": "code",
   "execution_count": 16,
   "metadata": {},
   "outputs": [],
   "source": [
    "import matplotlib as plt\n",
    "\n",
    "class PlotFenster():\n",
    "    def plot(self):\n",
    "        # Muss für jede Klassse einzeln implementiert werden^??\n",
    "        try:\n",
    "            # TODO\n",
    "            # graphen plotten und anzeigen\n",
    "            pass\n",
    "            \n",
    "        except Exception as e:\n",
    "            showinfo(title=\"FEHLER\", message=f\"Fehlermeldung:\\n{e}\")\n",
    "            self.root.destroy()\n",
    "\n",
    "\n",
    "    def set_message(self):\n",
    "        self.__message = \"ParentClass\"\n",
    "        pass\n",
    "\n",
    "\n",
    "    \n",
    "\n",
    "# auswahlfenster für 2 der Spalten zum ggeneinander plotten\n",
    "class PlotFenster_XY(PlotFenster):\n",
    "    def plot(self):\n",
    "\n",
    "        print(self.__message)\n",
    "        showinfo(title=\"ACHSEN\", message=self.__message)\n",
    "\n",
    "    def __init__(self, csv_columns):\n",
    "        self.root = tk.Tk()\n",
    "\n",
    "        self.root.title(\"Achsenwahl\")\n",
    "\n",
    "        self.label = tk.Label(self.root, text=\"Auswahl zum plotten treffen\", font=(\"Arial\", 18))\n",
    "        self.label.pack(padx=10, pady=10)\n",
    "\n",
    "        self.auswahl_frame = tk.Frame(self.root)\n",
    "        self.auswahl_frame.columnconfigure(0, weight=1)\n",
    "        self.auswahl_frame.columnconfigure(1, weight=1)\n",
    "        \n",
    "        self.x_label = tk.Label(self.auswahl_frame, text=\"x-Achse\", font=(\"Arial\", 12))\n",
    "        self.x_label.grid(row=0, column=0, sticky=\"W E\")\n",
    "\n",
    "        self.y_label = tk.Label(self.auswahl_frame, text=\"y-Achse\", font=(\"Arial\", 12))\n",
    "        self.y_label.grid(row=1, column=0, sticky=\"W E\")\n",
    "\n",
    "        self.x_col_var = tk.StringVar(self.auswahl_frame, \"Auswählen\")\n",
    "        self.x_column = tk.OptionMenu(self.auswahl_frame, self.x_col_var, *csv_columns)\n",
    "        self.x_column.grid(row=0, column=1, sticky=\"W E\")\n",
    "\n",
    "        self.y_col_var = tk.StringVar(self.auswahl_frame, \"Auswählen\")\n",
    "        self.y_column = tk.OptionMenu(self.auswahl_frame, self.y_col_var, *csv_columns)\n",
    "        self.y_column.grid(row=1, column=1, sticky=\"W E\")\n",
    "        \n",
    "        self.set_message()\n",
    "\n",
    "        self.auswahl_frame.pack(padx=10, pady=10)\n",
    "\n",
    "        plot_button = tk.Button(self.root, text=\"Plotten!\", font=(\"Arial\", 14), command=self.plot)\n",
    "        plot_button.pack(padx=10, pady=10)\n",
    "\n",
    "        self.root.mainloop()\n",
    "\n",
    "    \n",
    "\n",
    "\n",
    "    \n",
    "\n",
    "\n",
    "\n",
    "#test = AchsenWahlFenster(csv_skeleton_df.columns)\n",
    "\n"
   ]
  },
  {
   "cell_type": "code",
   "execution_count": null,
   "metadata": {},
   "outputs": [],
   "source": [
    "plotfenster_dict = {\n",
    "    \"plot (x,y)\": PlotFenster_XY,\n",
    "    \"Boxplot\": PlotFenster_Box,\n",
    "    \"Scatterplot\": PlotFenster_Scatter, \n",
    "    \"Bar-plot\": PlotFenster_Bar,\n",
    "    \"Pie-plot\": PlotFenster_Pie, \n",
    "    \"Histogramm\": PlotFenster_Pie\n",
    "}"
   ]
  },
  {
   "cell_type": "code",
   "execution_count": 23,
   "metadata": {},
   "outputs": [
    {
     "name": "stdout",
     "output_type": "stream",
     "text": [
      "PFLANZJAHR\n"
     ]
    },
    {
     "data": {
      "image/png": "[encoded data removed]",
      "text/plain": [
       "<Figure size 640x480 with 1 Axes>"
      ]
     },
     "metadata": {},
     "output_type": "display_data"
    }
   ],
   "source": [
    "import pandas as pd\n",
    "import matplotlib.pyplot as plt\n",
    "\n",
    "testdf = pd.read_csv(\"baume.csv\", sep=\";\")\n",
    "print(testdf.columns[2])\n",
    "testdf.boxplot(column=testdf.columns[2])\n",
    "plt.savefig()"
   ]
  },
  {
   "cell_type": "code",
   "execution_count": 18,
   "metadata": {},
   "outputs": [
    {
     "name": "stdout",
     "output_type": "stream",
     "text": [
      "\n",
      "INIT\n",
      "\n",
      "\n",
      " INPUT FILENAME \n",
      "\n",
      "\n",
      "SELECT FILE\n",
      "\n",
      "\n",
      "SET FILENAME\n",
      "\n",
      "\n",
      "GETFILENAME\n",
      "\n",
      "C:/Users/phili/Desktop/UNI/Semester 7/Python Fortgeschritten/Python Gruppenprojekt/baume.csv\n",
      "Klasse erstellt\n",
      "\n",
      "GET INPUT FILE\n",
      "\n",
      "\n",
      "CHECK FILE\n",
      "\n",
      "Dateieingabe korrekt!\n",
      "file geholt\n",
      "\n",
      "GETFILENAME\n",
      "\n",
      "filestring gespeichert\n",
      "baume.csv\n",
      "SEP: ,\n",
      "Error tokenizing data. C error: Expected 2 fields in line 3, saw 3\n",
      "\n",
      "SEP: ;\n",
      "X-ACHSE: STAMM_DM\n",
      "Y-ACHSE: HOEHE\n"
     ]
    }
   ],
   "source": [
    "Test_file = GUI_Input()\n",
    "print(\"Klasse erstellt\")\n",
    "Test_file.get_input_file()\n",
    "print(\"file geholt\")\n",
    "csv_file = Test_file.get_filename()\n",
    "print(\"filestring gespeichert\")\n",
    "\n",
    "test_df = get_df(csv_file)\n",
    "TestFenster = AuswahlFenster(test_df.columns)\n",
    "\n",
    "plt.\n",
    "\n"
   ]
  },
  {
   "cell_type": "code",
   "execution_count": 13,
   "metadata": {},
   "outputs": [
    {
     "name": "stdout",
     "output_type": "stream",
     "text": [
      "\n"
     ]
    }
   ],
   "source": [
    "class BeispielKlasse():\n",
    "    def set_name(self, name):\n",
    "        self.__name = name\n",
    "    def get_name(self):\n",
    "        return self.__name\n",
    "\n",
    "class Test(BeispielKlasse):\n",
    "    def __init__(self):\n",
    "        name = input(\"Name: \")\n",
    "        self.set_name(name)\n",
    "        print(self.get_name())\n",
    "\n",
    "a = Test()\n"
   ]
  },
  {
   "cell_type": "code",
   "execution_count": 14,
   "metadata": {},
   "outputs": [
    {
     "data": {
      "text/plain": [
       "''"
      ]
     },
     "execution_count": 14,
     "metadata": {},
     "output_type": "execute_result"
    }
   ],
   "source": [
    "a.get_name()"
   ]
  },
  {
   "cell_type": "code",
   "execution_count": null,
   "metadata": {},
   "outputs": [],
   "source": []
  },
  {
   "cell_type": "code",
   "execution_count": null,
   "metadata": {},
   "outputs": [],
   "source": []
  },
  {
   "cell_type": "code",
   "execution_count": null,
   "metadata": {},
   "outputs": [],
   "source": []
  },
  {
   "cell_type": "code",
   "execution_count": null,
   "metadata": {},
   "outputs": [],
   "source": []
  }
 ],
 "metadata": {
  "kernelspec": {
   "display_name": "Python 3",
   "language": "python",
   "name": "python3"
  },
  "language_info": {
   "codemirror_mode": {
    "name": "ipython",
    "version": 3
   },
   "file_extension": ".py",
   "mimetype": "text/x-python",
   "name": "python",
   "nbconvert_exporter": "python",
   "pygments_lexer": "ipython3",
   "version": "3.11.0"
  },
  "orig_nbformat": 4,
  "vscode": {
   "interpreter": {
    "hash": "570f93402284e886f0ca71a3a3366262f1a82055a302f49d13aba85e9880c16a"
   }
  }
 },
 "nbformat": 4,
 "nbformat_minor": 2
}
