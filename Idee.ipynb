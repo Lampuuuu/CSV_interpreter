{
 "cells": [
  {
   "cell_type": "markdown",
   "metadata": {},
   "source": [
    "# Konzeptionierung Projektarbeit\n",
    "\n",
    "\n",
    "## Ablauf\n",
    "* Die Prüfung besteht aus der Abgabe und der Präsentation einer Projektarbeit.\n",
    "* Die Projektarbeit ist in Gruppenarbeit zu leisten.\n",
    "* Die Gruppeneinteilung ist vom 25. bis 31.10.2022 freigeschaltet.\n",
    "* Eine Gruppe besteht aus genau 3 Studierenden.\n",
    "* Kleinere oder größere Gruppen sind nicht zugelassen.\n",
    "* Das Thema der Projektarbeit legt jede Gruppe selbst fest.\n",
    "* Die Projektarbeit ist bis einschließlich 25.01.2023 im Kurs abzugeben.\n",
    "* Jede Gruppe benotet die Teilnehmenden der Gruppe individuell.\n",
    "* Beispiel für die Personen A, B, C, D und E: A = 1,3, B = 2,7, C = 1,0, D = 5,0, E = 2,0\n",
    "* Diese Noten dienen dem Prüfer als Orientierung bei der tatsächlichen Benotung.\n",
    "* Die mündlichen Präsentationen finden vom 30.01. bis 03.02.2023 für Präsenz-Studierende statt.\n",
    "* Für Gruppen mit Online-Studierenden finden die Präsentationen alternativ im Zeitraum vom 06. bis 10.02.2023 statt.\n",
    "* Für Gruppen ohne Online-Studierende findet die Präsentation an der TH Lübeck statt.\n",
    "* Für Gruppen mit Online-Studierenden findet die Präsenz online statt.\n",
    "\n",
    "\n",
    "\n",
    "## Vorgaben\n",
    "\n",
    "* Die Arbeit verwendet ausschließlich f-Strings zur Formatierung.\n",
    "* Die Arbeit verwendet ausschließlich das with-open-Konstrukt zum öffnen von Dateien.\n",
    "* Die Arbeit beinhaltet objektorientierte Programmierung.\n",
    "* Die Arbeit beinhaltet Error- und Exception-Handling.\n",
    "* Die Arbeit verwendet Packages.\n",
    "* Die Arbeit verwendet die PEP 8 Code-Konventionen (überprüfbar mit Pylint).\n",
    "* Die Arbeit beinhaltet mindestens eins der Themen Bildbearbeitung, Data Science oder Visualisierung von Daten.\n",
    "* Komplexität des Projekts.\n",
    "* Beschreibung des Projekts.\n",
    "* Qualität der Präsentation des Projekts.\n",
    "* Qualität und Dokumentation des Codes.\n",
    "* Wiederverwendbarkeit von Teilen des Projekts.\n",
    "* Bedienbarkeit und Nutzerfreundlichkeit des Projekts.\n",
    "\n",
    "\n",
    "## Ideen\n",
    "\n",
    "* Irgendeine Form eines Web-Scrapers, dessen Daten ausgewertet werden\n",
    "    * ~~bspw. Amazon- & Saturn-Preis eines Produkts werden regelmäßig aus dem Web eingefangen und via Diagrammen ausgewertet~~\n",
    "\n",
    "* Umweltdaten (bspw. vom Umweltbundesamt) einmalig herunterladen und auswerten\n",
    "    * Aufbereitung via Matplotlib\n",
    "    * --> Auswerter für bestimmte Datenart (csv, die Bestimmte Daten enthält)\n",
    "        * GUI \n",
    "            * --> Welche Daten sollen geplottet werden?\n",
    "        * Nach nutzereingabe Plots erstellen\n",
    "\n",
    "    * Mögliche Hindernisse\n",
    "        * Übersetzung vom GUI zum Backend\n",
    "        * verlässliche Datenverarbeitung bei unerwarteten Dateien?\n",
    "\n",
    "    * Vorteile des Projekts\n",
    "        * vom Kern wichtig sind nur GUI und Grundlagenverarbeitung\n",
    "        * alles andere kann durch Features ergänzt/wieder entfernt werden\n",
    "\n",
    "### Vorschläge aus dem Internet:\n",
    "\n",
    "    Fake News Detection\n",
    "    Human Action Recognition\n",
    "    Forest Fire Prediction\n",
    "    Road Lane Line Detection\n",
    "\n",
    "\n",
    "    Recognition of Speech Emotion\n",
    "    Gender and Age Detection with Data Science\n",
    "    Driver Drowsiness Detection in Python\n",
    "    Handwritten Digit & Character Recognition Project\n",
    "\n",
    "\n",
    "\n",
    "\n",
    "\n",
    "\n",
    "## Fragen\n",
    "\n",
    "* Beinhaltet die Projektarbeit auch eine Beschreibung des Projekts via PDF o.ä., oder reicht Präsentation & Dokumentation? \n",
    "\n"
   ]
  },
  {
   "cell_type": "code",
   "execution_count": 4,
   "metadata": {},
   "outputs": [
    {
     "name": "stdout",
     "output_type": "stream",
     "text": [
      "kein int eingegeben\n"
     ]
    }
   ],
   "source": [
    "\n",
    "import numpy \n",
    "import pandas\n",
    "import matplotlib\n",
    "try: \n",
    "    a = int(input())\n",
    "    print(a + 2)\n",
    "except:\n",
    "    print(\"kein int eingegeben\")\n",
    "\n"
   ]
  },
  {
   "cell_type": "markdown",
   "metadata": {},
   "source": []
  },
  {
   "cell_type": "markdown",
   "metadata": {},
   "source": []
  }
 ],
 "metadata": {
  "kernelspec": {
   "display_name": "Python 3.11.0 64-bit (microsoft store)",
   "language": "python",
   "name": "python3"
  },
  "language_info": {
   "codemirror_mode": {
    "name": "ipython",
    "version": 3
   },
   "file_extension": ".py",
   "mimetype": "text/x-python",
   "name": "python",
   "nbconvert_exporter": "python",
   "pygments_lexer": "ipython3",
   "version": "3.11.0 (main, Oct 24 2022, 18:26:48) [MSC v.1933 64 bit (AMD64)]"
  },
  "orig_nbformat": 4,
  "vscode": {
   "interpreter": {
    "hash": "570f93402284e886f0ca71a3a3366262f1a82055a302f49d13aba85e9880c16a"
   }
  }
 },
 "nbformat": 4,
 "nbformat_minor": 2
}
