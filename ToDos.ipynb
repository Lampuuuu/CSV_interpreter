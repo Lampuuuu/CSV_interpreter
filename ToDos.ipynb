{
 "cells": [
  {
   "attachments": {},
   "cell_type": "markdown",
   "metadata": {},
   "source": [
    "# To-Dos 30.12.2022\n",
    "\n",
    "* Alle:\n",
    "    * Optimierung für englische/deutsche csv(\".\"/\",\"-Dezimalnotierung <-> \".\"/\",\" 1000-er Notierung)\n",
    "        1. Seperator rausfinden (welches zeichen taucht in der ersten zeile auf?)\n",
    "        2. Dezimalzeichen herausfinden (ergibt dann das 1000er-Zeichen)\n",
    "* Michele\n",
    "    * Plotter auf CSV anpassen\n",
    "    * an baume.csv orientieren\n",
    "* Philipp \n",
    "    * Input optimieren --> baume.csv muss überall einlesbar sein (schnellpfad und gesamtpfad)\n",
    "    * GUI für eingelesene csv-File\n",
    "    * auf TkInter umstellen\n"
   ]
  },
  {
   "cell_type": "code",
   "execution_count": null,
   "metadata": {},
   "outputs": [],
   "source": []
  }
 ],
 "metadata": {
  "kernelspec": {
   "display_name": "Python 3",
   "language": "python",
   "name": "python3"
  },
  "language_info": {
   "codemirror_mode": {
    "name": "ipython",
    "version": 3
   },
   "file_extension": ".py",
   "mimetype": "text/x-python",
   "name": "python",
   "nbconvert_exporter": "python",
   "pygments_lexer": "ipython3",
   "version": "3.11.0 (main, Oct 24 2022, 18:26:48) [MSC v.1933 64 bit (AMD64)]"
  },
  "orig_nbformat": 4,
  "vscode": {
   "interpreter": {
    "hash": "570f93402284e886f0ca71a3a3366262f1a82055a302f49d13aba85e9880c16a"
   }
  }
 },
 "nbformat": 4,
 "nbformat_minor": 2
}
